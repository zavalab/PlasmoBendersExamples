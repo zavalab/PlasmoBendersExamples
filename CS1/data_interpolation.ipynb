{
 "cells": [
  {
   "cell_type": "code",
   "execution_count": 1,
   "metadata": {},
   "outputs": [],
   "source": [
    "import numpy as np\n",
    "import scipy as sp\n",
    "from scipy.interpolate import UnivariateSpline\n",
    "from scipy.interpolate import CubicSpline\n",
    "from scipy.interpolate import interp1d\n",
    "import pandas as pd\n",
    "import matplotlib.pyplot as plt\n",
    "from tqdm import tqdm"
   ]
  },
  {
   "cell_type": "code",
   "execution_count": 2,
   "metadata": {},
   "outputs": [],
   "source": [
    "RT_demand = pd.read_csv(\"datasets/nrel118/RT_bus_demand.csv\")\n",
    "ST_demand = pd.read_csv(\"datasets/nrel118/ST_bus_demand.csv\")"
   ]
  },
  {
   "cell_type": "code",
   "execution_count": 3,
   "metadata": {},
   "outputs": [],
   "source": [
    "def interpolator(RT_data, dt = .25):\n",
    "    old_len = len(RT_data)\n",
    "    new_len = old_len * 4\n",
    "    \n",
    "    accum = np.zeros(old_len)\n",
    "    \n",
    "    for i in range(old_len):\n",
    "        accum[i] = np.sum(RT_data[0:(i + 1)])\n",
    "        \n",
    "    t = np.arange(.5, (old_len + .5), 1)\n",
    "    \n",
    "    f = interp1d(t, RT_data, bounds_error = False, fill_value = \"extrapolate\")\n",
    "    t_new = np.arange(.25, (old_len + .25), .25)\n",
    "    \n",
    "    new_data = f(t_new)\n",
    "    \n",
    "    for i in range(old_len):\n",
    "        hr_sum = RT_data[i]\n",
    "        quarter_sum = np.sum(new_data[(i * 4):((i + 1) * 4)]) * dt\n",
    "        offset = hr_sum - quarter_sum\n",
    "        new_data[(i * 4):((i + 1) * 4)] += offset * dt\n",
    "        \n",
    "    return new_data"
   ]
  },
  {
   "cell_type": "code",
   "execution_count": 5,
   "metadata": {},
   "outputs": [],
   "source": [
    "RT_demand_vals = RT_demand.values[:, 2:]\n",
    "ST_demand_vals = ST_demand.values[:, 2:]"
   ]
  },
  {
   "cell_type": "code",
   "execution_count": 6,
   "metadata": {
    "scrolled": false
   },
   "outputs": [],
   "source": [
    "def get_new_demands(demand):\n",
    "    times = [f\"{i}\" for i in np.arange(.25, 768.25, .25)]\n",
    "    col_names = [\"Bus\", \"Region\"]\n",
    "    col_names += times\n",
    "    \n",
    "    demand_vals = demand.values[:, 2:]\n",
    "    \n",
    "    df = pd.DataFrame(columns = col_names)\n",
    "    \n",
    "    df[\"Bus\"] = demand.Bus\n",
    "    df[\"Region\"] = demand.Region\n",
    "    \n",
    "    for i in tqdm(range(len(demand))):\n",
    "        new_data = interpolator(demand_vals[i, :])\n",
    "        df.iloc[i, 2:] = new_data\n",
    "        \n",
    "    return df"
   ]
  },
  {
   "cell_type": "code",
   "execution_count": 7,
   "metadata": {},
   "outputs": [
    {
     "name": "stderr",
     "output_type": "stream",
     "text": [
      "100%|████████████████████████████████████████████████████████████████████████████████| 118/118 [00:13<00:00,  9.01it/s]\n",
      "100%|████████████████████████████████████████████████████████████████████████████████| 118/118 [00:13<00:00,  9.07it/s]\n"
     ]
    }
   ],
   "source": [
    "new_RT_df = get_new_demands(RT_demand)\n",
    "new_ST_df = get_new_demands(ST_demand)"
   ]
  },
  {
   "cell_type": "code",
   "execution_count": 144,
   "metadata": {},
   "outputs": [],
   "source": [
    "#new_RT_df.to_csv(\"datasets/nrel118/RT_bus_demand_15min.csv\", index = False)\n",
    "#new_ST_df.to_csv(\"datasets/nrel118/ST_bus_demand_15min.csv\", index = False)"
   ]
  },
  {
   "cell_type": "code",
   "execution_count": 9,
   "metadata": {},
   "outputs": [],
   "source": [
    "wind_RT = pd.read_csv(\"datasets/nrel118/Wind/RT.csv\")\n",
    "wind_ST = pd.read_csv(\"datasets/nrel118/Wind/ST.csv\")\n",
    "\n",
    "solar_RT = pd.read_csv(\"datasets/nrel118/Solar/RT.csv\")\n",
    "solar_ST = pd.read_csv(\"datasets/nrel118/Solar/ST.csv\")"
   ]
  },
  {
   "cell_type": "code",
   "execution_count": 16,
   "metadata": {},
   "outputs": [],
   "source": [
    "def get_new_genr(genr):\n",
    "    cols = genr.columns\n",
    "    df = pd.DataFrame(columns = cols)\n",
    "    \n",
    "    df.Hour = np.arange(.25, 768.25, .25)\n",
    "    genr_vals = genr.values[:, 1:]\n",
    "    \n",
    "    for i in range(len(genr_vals[0, :])):\n",
    "        new_data = interpolator(genr_vals[:, i])\n",
    "        new_data[new_data < 0] = 0\n",
    "        df.iloc[:, i + 1] = new_data\n",
    "    \n",
    "    return df"
   ]
  },
  {
   "cell_type": "code",
   "execution_count": 17,
   "metadata": {},
   "outputs": [],
   "source": [
    "new_wind_RT = get_new_genr(wind_RT)\n",
    "new_wind_ST = get_new_genr(wind_ST)\n",
    "\n",
    "new_solar_RT = get_new_genr(solar_RT)\n",
    "new_solar_ST = get_new_genr(solar_ST)"
   ]
  },
  {
   "cell_type": "code",
   "execution_count": 19,
   "metadata": {},
   "outputs": [],
   "source": [
    "#new_wind_RT.to_csv(\"datasets/nrel118/Wind/RT_15min.csv\", index = False)\n",
    "#new_wind_ST.to_csv(\"datasets/nrel118/Wind/ST_15min.csv\", index = False)\n",
    "#new_solar_RT.to_csv(\"datasets/nrel118/Solar/RT_15min.csv\", index = False)\n",
    "#new_solar_ST.to_csv(\"datasets/nrel118/Solar/ST_15min.csv\", index = False)"
   ]
  }
 ],
 "metadata": {
  "kernelspec": {
   "display_name": "Python 3",
   "language": "python",
   "name": "python3"
  },
  "language_info": {
   "codemirror_mode": {
    "name": "ipython",
    "version": 3
   },
   "file_extension": ".py",
   "mimetype": "text/x-python",
   "name": "python",
   "nbconvert_exporter": "python",
   "pygments_lexer": "ipython3",
   "version": "3.8.5"
  }
 },
 "nbformat": 4,
 "nbformat_minor": 4
}
